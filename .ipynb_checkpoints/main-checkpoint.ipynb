{
 "cells": [
  {
   "cell_type": "markdown",
   "metadata": {},
   "source": [
    "# Finincial Planner"
   ]
  },
  {
   "cell_type": "code",
   "execution_count": 53,
   "metadata": {},
   "outputs": [],
   "source": [
    "import os\n",
    "import pandas as pd\n",
    "import alpaca_trade_api as tradeapi\n",
    "# Load .env environment variables\n",
    "from dotenv import load_dotenv\n",
    "load_dotenv(\"newkeys.env\")\n",
    "\n",
    "%matplotlib inline"
   ]
  },
  {
   "cell_type": "code",
   "execution_count": 54,
   "metadata": {},
   "outputs": [
    {
     "data": {
      "text/plain": [
       "True"
      ]
     },
     "execution_count": 54,
     "metadata": {},
     "output_type": "execute_result"
    }
   ],
   "source": [
    "# Load .env environment variables\n",
    "\n",
    "load_dotenv(\"newkeys\")\n"
   ]
  },
  {
   "cell_type": "code",
   "execution_count": 55,
   "metadata": {},
   "outputs": [],
   "source": [
    "# Set Alpaca API key and secret\n",
    "alpaca_api_key = os.getenv(\"ALPACA_API_KEY\")\n",
    "alpaca_secret_key = os.getenv(\"ALPACA_SECRET_KEY\")\n",
    "\n"
   ]
  },
  {
   "cell_type": "code",
   "execution_count": 56,
   "metadata": {},
   "outputs": [
    {
     "name": "stdout",
     "output_type": "stream",
     "text": [
      "Alpaca Key type: <class 'str'>\n",
      "Alpaca Secret Key type: <class 'str'>\n"
     ]
    }
   ],
   "source": [
    "# Verify that Alpaca key and secret were correctly loaded\n",
    "print(f\"Alpaca Key type: {type(alpaca_api_key)}\")\n",
    "print(f\"Alpaca Secret Key type: {type(alpaca_secret_key)}\")"
   ]
  },
  {
   "cell_type": "code",
   "execution_count": 57,
   "metadata": {},
   "outputs": [
    {
     "data": {
      "text/plain": [
       "'PKLLRLI17NPKDE8EW7EC'"
      ]
     },
     "execution_count": 57,
     "metadata": {},
     "output_type": "execute_result"
    }
   ],
   "source": [
    "alpaca_api_key"
   ]
  },
  {
   "cell_type": "code",
   "execution_count": 58,
   "metadata": {},
   "outputs": [
    {
     "data": {
      "text/html": [
       "<div>\n",
       "<style scoped>\n",
       "    .dataframe tbody tr th:only-of-type {\n",
       "        vertical-align: middle;\n",
       "    }\n",
       "\n",
       "    .dataframe tbody tr th {\n",
       "        vertical-align: top;\n",
       "    }\n",
       "\n",
       "    .dataframe thead th {\n",
       "        text-align: right;\n",
       "    }\n",
       "</style>\n",
       "<table border=\"1\" class=\"dataframe\">\n",
       "  <thead>\n",
       "    <tr style=\"text-align: right;\">\n",
       "      <th></th>\n",
       "      <th>shares</th>\n",
       "    </tr>\n",
       "  </thead>\n",
       "  <tbody>\n",
       "    <tr>\n",
       "      <th>SPY</th>\n",
       "      <td>50</td>\n",
       "    </tr>\n",
       "    <tr>\n",
       "      <th>AGG</th>\n",
       "      <td>200</td>\n",
       "    </tr>\n",
       "  </tbody>\n",
       "</table>\n",
       "</div>"
      ],
      "text/plain": [
       "     shares\n",
       "SPY      50\n",
       "AGG     200"
      ]
     },
     "execution_count": 58,
     "metadata": {},
     "output_type": "execute_result"
    }
   ],
   "source": [
    "# Set current amount of shares data\n",
    "shares_data = {\n",
    "    \"shares\": [50, 200]\n",
    "}\n",
    "\n",
    "# Set the tickers\n",
    "tickers = [\"SPY\", \"AGG\"]\n",
    "\n",
    "# Create the shares DataFrame\n",
    "df_shares = pd.DataFrame(shares_data, index=tickers)\n",
    "\n",
    "# Display shares data\n",
    "df_shares"
   ]
  },
  {
   "cell_type": "code",
   "execution_count": 63,
   "metadata": {},
   "outputs": [],
   "source": [
    "# Collect Investment Data From Alpaca API"
   ]
  },
  {
   "cell_type": "code",
   "execution_count": 65,
   "metadata": {},
   "outputs": [],
   "source": [
    "# Create the Alpaca API object\n",
    "alpaca = tradeapi.REST(\n",
    "    alpaca_api_key,\n",
    "    alpaca_secret_key,\n",
    "    api_version=\"v2\")"
   ]
  },
  {
   "cell_type": "code",
   "execution_count": 66,
   "metadata": {},
   "outputs": [
    {
     "data": {
      "text/html": [
       "<div>\n",
       "<style scoped>\n",
       "    .dataframe tbody tr th:only-of-type {\n",
       "        vertical-align: middle;\n",
       "    }\n",
       "\n",
       "    .dataframe tbody tr th {\n",
       "        vertical-align: top;\n",
       "    }\n",
       "\n",
       "    .dataframe thead tr th {\n",
       "        text-align: left;\n",
       "    }\n",
       "\n",
       "    .dataframe thead tr:last-of-type th {\n",
       "        text-align: right;\n",
       "    }\n",
       "</style>\n",
       "<table border=\"1\" class=\"dataframe\">\n",
       "  <thead>\n",
       "    <tr>\n",
       "      <th></th>\n",
       "      <th colspan=\"5\" halign=\"left\">AGG</th>\n",
       "      <th colspan=\"5\" halign=\"left\">SPY</th>\n",
       "    </tr>\n",
       "    <tr>\n",
       "      <th></th>\n",
       "      <th>open</th>\n",
       "      <th>high</th>\n",
       "      <th>low</th>\n",
       "      <th>close</th>\n",
       "      <th>volume</th>\n",
       "      <th>open</th>\n",
       "      <th>high</th>\n",
       "      <th>low</th>\n",
       "      <th>close</th>\n",
       "      <th>volume</th>\n",
       "    </tr>\n",
       "    <tr>\n",
       "      <th>time</th>\n",
       "      <th></th>\n",
       "      <th></th>\n",
       "      <th></th>\n",
       "      <th></th>\n",
       "      <th></th>\n",
       "      <th></th>\n",
       "      <th></th>\n",
       "      <th></th>\n",
       "      <th></th>\n",
       "      <th></th>\n",
       "    </tr>\n",
       "  </thead>\n",
       "  <tbody>\n",
       "    <tr>\n",
       "      <th>2017-03-09 00:00:00-05:00</th>\n",
       "      <td>107.32</td>\n",
       "      <td>107.34</td>\n",
       "      <td>107.1207</td>\n",
       "      <td>107.150</td>\n",
       "      <td>2894452.0</td>\n",
       "      <td>NaN</td>\n",
       "      <td>NaN</td>\n",
       "      <td>NaN</td>\n",
       "      <td>NaN</td>\n",
       "      <td>NaN</td>\n",
       "    </tr>\n",
       "    <tr>\n",
       "      <th>2017-03-10 00:00:00-05:00</th>\n",
       "      <td>107.23</td>\n",
       "      <td>107.32</td>\n",
       "      <td>107.1600</td>\n",
       "      <td>107.290</td>\n",
       "      <td>1787253.0</td>\n",
       "      <td>237.97</td>\n",
       "      <td>238.02</td>\n",
       "      <td>236.59</td>\n",
       "      <td>237.64</td>\n",
       "      <td>57074557.0</td>\n",
       "    </tr>\n",
       "    <tr>\n",
       "      <th>2017-03-13 00:00:00-04:00</th>\n",
       "      <td>107.21</td>\n",
       "      <td>107.28</td>\n",
       "      <td>107.1000</td>\n",
       "      <td>107.110</td>\n",
       "      <td>1488298.0</td>\n",
       "      <td>237.62</td>\n",
       "      <td>237.86</td>\n",
       "      <td>237.24</td>\n",
       "      <td>237.76</td>\n",
       "      <td>38721556.0</td>\n",
       "    </tr>\n",
       "    <tr>\n",
       "      <th>2017-03-14 00:00:00-04:00</th>\n",
       "      <td>107.08</td>\n",
       "      <td>107.24</td>\n",
       "      <td>107.0800</td>\n",
       "      <td>107.150</td>\n",
       "      <td>2517060.0</td>\n",
       "      <td>237.20</td>\n",
       "      <td>237.24</td>\n",
       "      <td>236.19</td>\n",
       "      <td>236.93</td>\n",
       "      <td>45447851.0</td>\n",
       "    </tr>\n",
       "    <tr>\n",
       "      <th>2017-03-15 00:00:00-04:00</th>\n",
       "      <td>107.25</td>\n",
       "      <td>107.79</td>\n",
       "      <td>107.2000</td>\n",
       "      <td>107.780</td>\n",
       "      <td>2040321.0</td>\n",
       "      <td>237.56</td>\n",
       "      <td>239.44</td>\n",
       "      <td>237.29</td>\n",
       "      <td>238.89</td>\n",
       "      <td>68203425.0</td>\n",
       "    </tr>\n",
       "    <tr>\n",
       "      <th>2017-03-16 00:00:00-04:00</th>\n",
       "      <td>107.68</td>\n",
       "      <td>107.75</td>\n",
       "      <td>107.6200</td>\n",
       "      <td>107.665</td>\n",
       "      <td>1890283.0</td>\n",
       "      <td>239.11</td>\n",
       "      <td>239.20</td>\n",
       "      <td>238.10</td>\n",
       "      <td>238.52</td>\n",
       "      <td>52393139.0</td>\n",
       "    </tr>\n",
       "    <tr>\n",
       "      <th>2017-03-17 00:00:00-04:00</th>\n",
       "      <td>107.72</td>\n",
       "      <td>107.91</td>\n",
       "      <td>107.6901</td>\n",
       "      <td>107.900</td>\n",
       "      <td>2061802.0</td>\n",
       "      <td>237.75</td>\n",
       "      <td>237.97</td>\n",
       "      <td>237.07</td>\n",
       "      <td>237.08</td>\n",
       "      <td>50206841.0</td>\n",
       "    </tr>\n",
       "    <tr>\n",
       "      <th>2017-03-20 00:00:00-04:00</th>\n",
       "      <td>107.86</td>\n",
       "      <td>108.05</td>\n",
       "      <td>107.8401</td>\n",
       "      <td>108.050</td>\n",
       "      <td>1521717.0</td>\n",
       "      <td>237.03</td>\n",
       "      <td>237.36</td>\n",
       "      <td>236.32</td>\n",
       "      <td>236.74</td>\n",
       "      <td>37732815.0</td>\n",
       "    </tr>\n",
       "    <tr>\n",
       "      <th>2017-03-21 00:00:00-04:00</th>\n",
       "      <td>107.93</td>\n",
       "      <td>108.27</td>\n",
       "      <td>107.9300</td>\n",
       "      <td>108.270</td>\n",
       "      <td>1885080.0</td>\n",
       "      <td>237.47</td>\n",
       "      <td>237.61</td>\n",
       "      <td>233.58</td>\n",
       "      <td>233.78</td>\n",
       "      <td>102898817.0</td>\n",
       "    </tr>\n",
       "    <tr>\n",
       "      <th>2017-03-22 00:00:00-04:00</th>\n",
       "      <td>108.44</td>\n",
       "      <td>108.54</td>\n",
       "      <td>108.3600</td>\n",
       "      <td>108.430</td>\n",
       "      <td>2260513.0</td>\n",
       "      <td>233.77</td>\n",
       "      <td>234.61</td>\n",
       "      <td>233.05</td>\n",
       "      <td>234.27</td>\n",
       "      <td>70252351.0</td>\n",
       "    </tr>\n",
       "  </tbody>\n",
       "</table>\n",
       "</div>"
      ],
      "text/plain": [
       "                              AGG                                        \\\n",
       "                             open    high       low    close     volume   \n",
       "time                                                                      \n",
       "2017-03-09 00:00:00-05:00  107.32  107.34  107.1207  107.150  2894452.0   \n",
       "2017-03-10 00:00:00-05:00  107.23  107.32  107.1600  107.290  1787253.0   \n",
       "2017-03-13 00:00:00-04:00  107.21  107.28  107.1000  107.110  1488298.0   \n",
       "2017-03-14 00:00:00-04:00  107.08  107.24  107.0800  107.150  2517060.0   \n",
       "2017-03-15 00:00:00-04:00  107.25  107.79  107.2000  107.780  2040321.0   \n",
       "2017-03-16 00:00:00-04:00  107.68  107.75  107.6200  107.665  1890283.0   \n",
       "2017-03-17 00:00:00-04:00  107.72  107.91  107.6901  107.900  2061802.0   \n",
       "2017-03-20 00:00:00-04:00  107.86  108.05  107.8401  108.050  1521717.0   \n",
       "2017-03-21 00:00:00-04:00  107.93  108.27  107.9300  108.270  1885080.0   \n",
       "2017-03-22 00:00:00-04:00  108.44  108.54  108.3600  108.430  2260513.0   \n",
       "\n",
       "                              SPY                                       \n",
       "                             open    high     low   close       volume  \n",
       "time                                                                    \n",
       "2017-03-09 00:00:00-05:00     NaN     NaN     NaN     NaN          NaN  \n",
       "2017-03-10 00:00:00-05:00  237.97  238.02  236.59  237.64   57074557.0  \n",
       "2017-03-13 00:00:00-04:00  237.62  237.86  237.24  237.76   38721556.0  \n",
       "2017-03-14 00:00:00-04:00  237.20  237.24  236.19  236.93   45447851.0  \n",
       "2017-03-15 00:00:00-04:00  237.56  239.44  237.29  238.89   68203425.0  \n",
       "2017-03-16 00:00:00-04:00  239.11  239.20  238.10  238.52   52393139.0  \n",
       "2017-03-17 00:00:00-04:00  237.75  237.97  237.07  237.08   50206841.0  \n",
       "2017-03-20 00:00:00-04:00  237.03  237.36  236.32  236.74   37732815.0  \n",
       "2017-03-21 00:00:00-04:00  237.47  237.61  233.58  233.78  102898817.0  \n",
       "2017-03-22 00:00:00-04:00  233.77  234.61  233.05  234.27   70252351.0  "
      ]
     },
     "execution_count": 66,
     "metadata": {},
     "output_type": "execute_result"
    }
   ],
   "source": [
    "## Collect Investment Data From Alpaca API\n",
    "## Set the SPY stock and AGG bonds tickers\n",
    "ticker = [\"SPY\",\"AGG\"]\n",
    "\n",
    "## Set timeframe to '1D'\n",
    "timeframe = \"1D\"\n",
    "\n",
    "## Set start and end datetimes of 5 years history.\n",
    "start_date = pd.Timestamp(\"2016-03-01\", tz=\"America/New_York\").isoformat()\n",
    "end_date = pd.Timestamp(\"2021-03-01\", tz=\"America/New_York\").isoformat()\n",
    "\n",
    "## Get 5 year's worth of historical data for SPY Stock and AGG Bonds\n",
    "df_ticker = alpaca.get_barset(\n",
    "    ticker,\n",
    "    timeframe,\n",
    "    start=start_date,\n",
    "    end=end_date,\n",
    "    limit=1000,\n",
    ").df\n",
    "\n",
    "## Display sample data\n",
    "df_ticker.head(10)"
   ]
  },
  {
   "cell_type": "code",
   "execution_count": 67,
   "metadata": {},
   "outputs": [
    {
     "data": {
      "text/html": [
       "<div>\n",
       "<style scoped>\n",
       "    .dataframe tbody tr th:only-of-type {\n",
       "        vertical-align: middle;\n",
       "    }\n",
       "\n",
       "    .dataframe tbody tr th {\n",
       "        vertical-align: top;\n",
       "    }\n",
       "\n",
       "    .dataframe thead th {\n",
       "        text-align: right;\n",
       "    }\n",
       "</style>\n",
       "<table border=\"1\" class=\"dataframe\">\n",
       "  <thead>\n",
       "    <tr style=\"text-align: right;\">\n",
       "      <th></th>\n",
       "      <th>SPY</th>\n",
       "      <th>AGG</th>\n",
       "    </tr>\n",
       "  </thead>\n",
       "  <tbody>\n",
       "    <tr>\n",
       "      <th>2017-03-13</th>\n",
       "      <td>0.000505</td>\n",
       "      <td>-0.001678</td>\n",
       "    </tr>\n",
       "    <tr>\n",
       "      <th>2017-03-14</th>\n",
       "      <td>-0.003491</td>\n",
       "      <td>0.000373</td>\n",
       "    </tr>\n",
       "    <tr>\n",
       "      <th>2017-03-15</th>\n",
       "      <td>0.008272</td>\n",
       "      <td>0.005880</td>\n",
       "    </tr>\n",
       "    <tr>\n",
       "      <th>2017-03-16</th>\n",
       "      <td>-0.001549</td>\n",
       "      <td>-0.001067</td>\n",
       "    </tr>\n",
       "    <tr>\n",
       "      <th>2017-03-17</th>\n",
       "      <td>-0.006037</td>\n",
       "      <td>0.002183</td>\n",
       "    </tr>\n",
       "    <tr>\n",
       "      <th>2017-03-20</th>\n",
       "      <td>-0.001434</td>\n",
       "      <td>0.001390</td>\n",
       "    </tr>\n",
       "    <tr>\n",
       "      <th>2017-03-21</th>\n",
       "      <td>-0.012503</td>\n",
       "      <td>0.002036</td>\n",
       "    </tr>\n",
       "    <tr>\n",
       "      <th>2017-03-22</th>\n",
       "      <td>0.002096</td>\n",
       "      <td>0.001478</td>\n",
       "    </tr>\n",
       "    <tr>\n",
       "      <th>2017-03-23</th>\n",
       "      <td>-0.001110</td>\n",
       "      <td>0.000184</td>\n",
       "    </tr>\n",
       "    <tr>\n",
       "      <th>2017-03-24</th>\n",
       "      <td>-0.000470</td>\n",
       "      <td>-0.000738</td>\n",
       "    </tr>\n",
       "  </tbody>\n",
       "</table>\n",
       "</div>"
      ],
      "text/plain": [
       "                 SPY       AGG\n",
       "2017-03-13  0.000505 -0.001678\n",
       "2017-03-14 -0.003491  0.000373\n",
       "2017-03-15  0.008272  0.005880\n",
       "2017-03-16 -0.001549 -0.001067\n",
       "2017-03-17 -0.006037  0.002183\n",
       "2017-03-20 -0.001434  0.001390\n",
       "2017-03-21 -0.012503  0.002036\n",
       "2017-03-22  0.002096  0.001478\n",
       "2017-03-23 -0.001110  0.000184\n",
       "2017-03-24 -0.000470 -0.000738"
      ]
     },
     "execution_count": 67,
     "metadata": {},
     "output_type": "execute_result"
    }
   ],
   "source": [
    "# Create and empty DataFrame for closing prices\n",
    "df_closing_prices = pd.DataFrame()\n",
    "\n",
    "# Fetch the closing prices of SPY Stock and AGG Bonds\n",
    "df_closing_prices[\"SPY\"] = df_ticker[\"SPY\"][\"close\"]\n",
    "df_closing_prices[\"AGG\"] = df_ticker[\"AGG\"][\"close\"]\n",
    "\n",
    "# Drop the time component of the date\n",
    "df_closing_prices.index = df_closing_prices.index.date\n",
    "\n",
    "# Compute daily returns\n",
    "df_daily_returns = df_closing_prices.pct_change().dropna()\n",
    "\n",
    "# Display sample data\n",
    "df_daily_returns.head(10)"
   ]
  },
  {
   "cell_type": "code",
   "execution_count": 68,
   "metadata": {},
   "outputs": [
    {
     "data": {
      "text/html": [
       "<div>\n",
       "<style scoped>\n",
       "    .dataframe tbody tr th:only-of-type {\n",
       "        vertical-align: middle;\n",
       "    }\n",
       "\n",
       "    .dataframe tbody tr th {\n",
       "        vertical-align: top;\n",
       "    }\n",
       "\n",
       "    .dataframe thead th {\n",
       "        text-align: right;\n",
       "    }\n",
       "</style>\n",
       "<table border=\"1\" class=\"dataframe\">\n",
       "  <thead>\n",
       "    <tr style=\"text-align: right;\">\n",
       "      <th></th>\n",
       "      <th>SPY</th>\n",
       "      <th>AGG</th>\n",
       "    </tr>\n",
       "  </thead>\n",
       "  <tbody>\n",
       "    <tr>\n",
       "      <th>2021-02-23</th>\n",
       "      <td>0.001007</td>\n",
       "      <td>0.000260</td>\n",
       "    </tr>\n",
       "    <tr>\n",
       "      <th>2021-02-24</th>\n",
       "      <td>0.010994</td>\n",
       "      <td>-0.000433</td>\n",
       "    </tr>\n",
       "    <tr>\n",
       "      <th>2021-02-25</th>\n",
       "      <td>-0.023918</td>\n",
       "      <td>-0.009180</td>\n",
       "    </tr>\n",
       "    <tr>\n",
       "      <th>2021-02-26</th>\n",
       "      <td>-0.005413</td>\n",
       "      <td>0.008391</td>\n",
       "    </tr>\n",
       "    <tr>\n",
       "      <th>2021-03-01</th>\n",
       "      <td>0.024190</td>\n",
       "      <td>-0.002080</td>\n",
       "    </tr>\n",
       "  </tbody>\n",
       "</table>\n",
       "</div>"
      ],
      "text/plain": [
       "                 SPY       AGG\n",
       "2021-02-23  0.001007  0.000260\n",
       "2021-02-24  0.010994 -0.000433\n",
       "2021-02-25 -0.023918 -0.009180\n",
       "2021-02-26 -0.005413  0.008391\n",
       "2021-03-01  0.024190 -0.002080"
      ]
     },
     "execution_count": 68,
     "metadata": {},
     "output_type": "execute_result"
    }
   ],
   "source": [
    "df_daily_returns.tail()"
   ]
  },
  {
   "cell_type": "code",
   "execution_count": 69,
   "metadata": {},
   "outputs": [],
   "source": [
    "# Create the Alpaca API object\n",
    "alpaca = tradeapi.REST(\n",
    "    alpaca_api_key,\n",
    "    alpaca_secret_key,\n",
    "    api_version=\"v2\")"
   ]
  },
  {
   "cell_type": "code",
   "execution_count": 70,
   "metadata": {},
   "outputs": [],
   "source": [
    "# Format current date as ISO format\n",
    "today = pd.Timestamp(\"2021-03-31\", tz=\"America/New_York\").isoformat()"
   ]
  },
  {
   "cell_type": "code",
   "execution_count": 71,
   "metadata": {},
   "outputs": [
    {
     "data": {
      "text/plain": [
       "'2021-03-31T00:00:00-04:00'"
      ]
     },
     "execution_count": 71,
     "metadata": {},
     "output_type": "execute_result"
    }
   ],
   "source": [
    "today"
   ]
  },
  {
   "cell_type": "code",
   "execution_count": 72,
   "metadata": {},
   "outputs": [],
   "source": [
    "# Set timeframe to one day ('1D') for the Alpaca API\n",
    "timeframe = \"1D\""
   ]
  },
  {
   "cell_type": "code",
   "execution_count": 74,
   "metadata": {},
   "outputs": [
    {
     "data": {
      "text/html": [
       "<div>\n",
       "<style scoped>\n",
       "    .dataframe tbody tr th:only-of-type {\n",
       "        vertical-align: middle;\n",
       "    }\n",
       "\n",
       "    .dataframe tbody tr th {\n",
       "        vertical-align: top;\n",
       "    }\n",
       "\n",
       "    .dataframe thead tr th {\n",
       "        text-align: left;\n",
       "    }\n",
       "\n",
       "    .dataframe thead tr:last-of-type th {\n",
       "        text-align: right;\n",
       "    }\n",
       "</style>\n",
       "<table border=\"1\" class=\"dataframe\">\n",
       "  <thead>\n",
       "    <tr>\n",
       "      <th></th>\n",
       "      <th colspan=\"5\" halign=\"left\">AGG</th>\n",
       "      <th colspan=\"5\" halign=\"left\">SPY</th>\n",
       "    </tr>\n",
       "    <tr>\n",
       "      <th></th>\n",
       "      <th>open</th>\n",
       "      <th>high</th>\n",
       "      <th>low</th>\n",
       "      <th>close</th>\n",
       "      <th>volume</th>\n",
       "      <th>open</th>\n",
       "      <th>high</th>\n",
       "      <th>low</th>\n",
       "      <th>close</th>\n",
       "      <th>volume</th>\n",
       "    </tr>\n",
       "    <tr>\n",
       "      <th>time</th>\n",
       "      <th></th>\n",
       "      <th></th>\n",
       "      <th></th>\n",
       "      <th></th>\n",
       "      <th></th>\n",
       "      <th></th>\n",
       "      <th></th>\n",
       "      <th></th>\n",
       "      <th></th>\n",
       "      <th></th>\n",
       "    </tr>\n",
       "  </thead>\n",
       "  <tbody>\n",
       "    <tr>\n",
       "      <th>2021-03-31 00:00:00-04:00</th>\n",
       "      <td>113.84</td>\n",
       "      <td>113.98</td>\n",
       "      <td>113.71</td>\n",
       "      <td>113.82</td>\n",
       "      <td>5846835</td>\n",
       "      <td>395.34</td>\n",
       "      <td>398</td>\n",
       "      <td>395.31</td>\n",
       "      <td>396.28</td>\n",
       "      <td>88541243</td>\n",
       "    </tr>\n",
       "  </tbody>\n",
       "</table>\n",
       "</div>"
      ],
      "text/plain": [
       "                              AGG                                      SPY  \\\n",
       "                             open    high     low   close   volume    open   \n",
       "time                                                                         \n",
       "2021-03-31 00:00:00-04:00  113.84  113.98  113.71  113.82  5846835  395.34   \n",
       "\n",
       "                                                          \n",
       "                          high     low   close    volume  \n",
       "time                                                      \n",
       "2021-03-31 00:00:00-04:00  398  395.31  396.28  88541243  "
      ]
     },
     "execution_count": 74,
     "metadata": {},
     "output_type": "execute_result"
    }
   ],
   "source": [
    "# Get current price data for SPY and AGG\n",
    "df_portfolio = alpaca.get_barset(\n",
    "    tickers,\n",
    "    timeframe,\n",
    "    start = today,\n",
    "    end = today\n",
    ").df\n",
    "\n",
    "# Display sample data\n",
    "df_portfolio"
   ]
  },
  {
   "cell_type": "code",
   "execution_count": 75,
   "metadata": {},
   "outputs": [],
   "source": [
    "## Calculate Current Value of Portfolio\n",
    "\n",
    "# Fetch the current closing prices from the DataFrame\n",
    "my_spy_pershare = float(df_portfolio[\"SPY\"][\"close\"])\n",
    "my_agg_pershare = float(df_portfolio[\"AGG\"][\"close\"])"
   ]
  },
  {
   "cell_type": "code",
   "execution_count": 76,
   "metadata": {},
   "outputs": [
    {
     "data": {
      "text/plain": [
       "396.28"
      ]
     },
     "execution_count": 76,
     "metadata": {},
     "output_type": "execute_result"
    }
   ],
   "source": [
    "my_spy_pershare"
   ]
  },
  {
   "cell_type": "code",
   "execution_count": 77,
   "metadata": {},
   "outputs": [],
   "source": [
    "# Compute the current value in dollars of the stock portfolio\n",
    "my_spy = my_spy_pershare * df_shares.loc[\"SPY\"][\"shares\"]\n",
    "my_agg = my_agg_pershare * df_shares.loc[\"AGG\"][\"shares\"]\n"
   ]
  },
  {
   "cell_type": "code",
   "execution_count": 78,
   "metadata": {},
   "outputs": [
    {
     "name": "stdout",
     "output_type": "stream",
     "text": [
      "The current value of the 50 SPY shares is $19814.00\n",
      "The current value of the 200 AGG shares is $22764.00\n"
     ]
    }
   ],
   "source": [
    "# Print the current value of the stocks portfolio\n",
    "print(f\"The current value of the {df_shares.loc['SPY']['shares']} SPY shares is ${my_spy:0.2f}\")\n",
    "print(f\"The current value of the {df_shares.loc['AGG']['shares']} AGG shares is ${my_agg:0.2f}\")  "
   ]
  },
  {
   "cell_type": "code",
   "execution_count": 167,
   "metadata": {},
   "outputs": [],
   "source": [
    "pd.options.display.float_format = '{:1.2f}'.format"
   ]
  },
  {
   "cell_type": "code",
   "execution_count": 168,
   "metadata": {},
   "outputs": [
    {
     "data": {
      "text/plain": [
       "42578.0"
      ]
     },
     "execution_count": 168,
     "metadata": {},
     "output_type": "execute_result"
    }
   ],
   "source": [
    "# Total Value of Share Values\n",
    "total_share_values = my_spy + my_agg\n",
    "total_share_values"
   ]
  },
  {
   "cell_type": "code",
   "execution_count": 169,
   "metadata": {},
   "outputs": [],
   "source": [
    "# Collect Crypto Prices using Free Crypto API "
   ]
  },
  {
   "cell_type": "code",
   "execution_count": 170,
   "metadata": {},
   "outputs": [],
   "source": [
    "import requests\n",
    "import json\n",
    "import pandas as pd"
   ]
  },
  {
   "cell_type": "code",
   "execution_count": 193,
   "metadata": {},
   "outputs": [
    {
     "data": {
      "text/html": [
       "<div>\n",
       "<style scoped>\n",
       "    .dataframe tbody tr th:only-of-type {\n",
       "        vertical-align: middle;\n",
       "    }\n",
       "\n",
       "    .dataframe tbody tr th {\n",
       "        vertical-align: top;\n",
       "    }\n",
       "\n",
       "    .dataframe thead th {\n",
       "        text-align: right;\n",
       "    }\n",
       "</style>\n",
       "<table border=\"1\" class=\"dataframe\">\n",
       "  <thead>\n",
       "    <tr style=\"text-align: right;\">\n",
       "      <th></th>\n",
       "      <th>lots</th>\n",
       "    </tr>\n",
       "  </thead>\n",
       "  <tbody>\n",
       "    <tr>\n",
       "      <th>BTC</th>\n",
       "      <td>1.20</td>\n",
       "    </tr>\n",
       "    <tr>\n",
       "      <th>ETH</th>\n",
       "      <td>5.30</td>\n",
       "    </tr>\n",
       "  </tbody>\n",
       "</table>\n",
       "</div>"
      ],
      "text/plain": [
       "     lots\n",
       "BTC  1.20\n",
       "ETH  5.30"
      ]
     },
     "execution_count": 193,
     "metadata": {},
     "output_type": "execute_result"
    }
   ],
   "source": [
    "# Set current amount of Crypto Asset\n",
    "\n",
    "crypto_assets = {\n",
    "    \"lots\": [1.2, 5.3]\n",
    "}\n",
    "\n",
    "# Set the Coins\n",
    "coins = [\"BTC\",\"ETH\"]\n",
    "\n",
    "# Create the shares DataFrame\n",
    "coin_lots = pd.DataFrame(crypto_assets, index=coins)\n",
    "\n",
    "# Display shares data\n",
    "coin_lots"
   ]
  },
  {
   "cell_type": "code",
   "execution_count": 194,
   "metadata": {},
   "outputs": [],
   "source": [
    "pd.options.display.float_format = '{:6.2f}'.format"
   ]
  },
  {
   "cell_type": "code",
   "execution_count": 195,
   "metadata": {},
   "outputs": [
    {
     "data": {
      "text/plain": [
       "5.3"
      ]
     },
     "execution_count": 195,
     "metadata": {},
     "output_type": "execute_result"
    }
   ],
   "source": [
    "Lots[1]"
   ]
  },
  {
   "cell_type": "code",
   "execution_count": 196,
   "metadata": {},
   "outputs": [],
   "source": [
    "# Crypto API URl's\n",
    "crypto_url =  \"https://api.alternative.me/v1/ticker/?limit=2&convert=USD\"\n"
   ]
  },
  {
   "cell_type": "code",
   "execution_count": 197,
   "metadata": {},
   "outputs": [],
   "source": [
    "crypto_url = crypto_url + \"?format=json\"\n"
   ]
  },
  {
   "cell_type": "code",
   "execution_count": 198,
   "metadata": {},
   "outputs": [
    {
     "data": {
      "text/plain": [
       "<Response [200]>"
      ]
     },
     "execution_count": 198,
     "metadata": {},
     "output_type": "execute_result"
    }
   ],
   "source": [
    "requests.get(crypto_url)\n"
   ]
  },
  {
   "cell_type": "code",
   "execution_count": 199,
   "metadata": {},
   "outputs": [],
   "source": [
    "response_data = requests.get(crypto_url)"
   ]
  },
  {
   "cell_type": "code",
   "execution_count": 200,
   "metadata": {},
   "outputs": [
    {
     "name": "stdout",
     "output_type": "stream",
     "text": [
      "b'[\\n\\t{\\n\\t\\t\"id\": \"bitcoin\",\\n\\t\\t\"name\": \"Bitcoin\",\\n\\t\\t\"symbol\": \"BTC\",\\n\\t\\t\"rank\": \"1\",\\n\\t\\t\"price_usd\": \"58142.0000000000000000\",\\n\\t\\t\"price_btc\": \"0\",\\n\\t\\t\"24h_volume_usd\": \"50641136263\",\\n\\t\\t\"market_cap_usd\": \"1088618973000\",\\n\\t\\t\"available_supply\": \"18672581\",\\n\\t\\t\"total_supply\": \"18672581\",\\n\\t\\t\"max_supply\": \"21000000\",\\n\\t\\t\"percent_change_1h\": \"-0.4654638930015800\",\\n\\t\\t\"percent_change_24h\": \"-0.9420747665930370\",\\n\\t\\t\"percent_change_7d\": \"5.6491593321761500\",\\n\\t\\t\"last_updated\": \"1617483491\"\\n\\t},\\n\\t{\\n\\t\\t\"id\": \"ethereum\",\\n\\t\\t\"name\": \"Ethereum\",\\n\\t\\t\"symbol\": \"ETH\",\\n\\t\\t\"rank\": \"2\",\\n\\t\\t\"price_usd\": \"2055.6100000000000000\",\\n\\t\\t\"price_btc\": \"0\",\\n\\t\\t\"24h_volume_usd\": \"34720946618\",\\n\\t\\t\"market_cap_usd\": \"240159917758\",\\n\\t\\t\"available_supply\": \"115321189\",\\n\\t\\t\"total_supply\": \"115321189\",\\n\\t\\t\"max_supply\": \"null\",\\n\\t\\t\"percent_change_1h\": \"-1.5659043825145300\",\\n\\t\\t\"percent_change_24h\": \"-1.7570099653163600\",\\n\\t\\t\"percent_change_7d\": \"20.8920358778820000\",\\n\\t\\t\"last_updated\": \"1617483492\"\\n\\t}\\n]\\n'\n"
     ]
    }
   ],
   "source": [
    "# Get content Crypto Data\n",
    "response_content = response_data.content\n",
    "print(response_content)"
   ]
  },
  {
   "cell_type": "code",
   "execution_count": 201,
   "metadata": {},
   "outputs": [],
   "source": [
    "import json"
   ]
  },
  {
   "cell_type": "code",
   "execution_count": 202,
   "metadata": {},
   "outputs": [],
   "source": [
    "# Formatting as json\n",
    "crypto_data = response_data.json()\n"
   ]
  },
  {
   "cell_type": "code",
   "execution_count": 203,
   "metadata": {},
   "outputs": [
    {
     "name": "stdout",
     "output_type": "stream",
     "text": [
      "[\n",
      "    {\n",
      "        \"id\": \"bitcoin\",\n",
      "        \"name\": \"Bitcoin\",\n",
      "        \"symbol\": \"BTC\",\n",
      "        \"rank\": \"1\",\n",
      "        \"price_usd\": \"58142.0000000000000000\",\n",
      "        \"price_btc\": \"0\",\n",
      "        \"24h_volume_usd\": \"50641136263\",\n",
      "        \"market_cap_usd\": \"1088618973000\",\n",
      "        \"available_supply\": \"18672581\",\n",
      "        \"total_supply\": \"18672581\",\n",
      "        \"max_supply\": \"21000000\",\n",
      "        \"percent_change_1h\": \"-0.4654638930015800\",\n",
      "        \"percent_change_24h\": \"-0.9420747665930370\",\n",
      "        \"percent_change_7d\": \"5.6491593321761500\",\n",
      "        \"last_updated\": \"1617483491\"\n",
      "    },\n",
      "    {\n",
      "        \"id\": \"ethereum\",\n",
      "        \"name\": \"Ethereum\",\n",
      "        \"symbol\": \"ETH\",\n",
      "        \"rank\": \"2\",\n",
      "        \"price_usd\": \"2055.6100000000000000\",\n",
      "        \"price_btc\": \"0\",\n",
      "        \"24h_volume_usd\": \"34720946618\",\n",
      "        \"market_cap_usd\": \"240159917758\",\n",
      "        \"available_supply\": \"115321189\",\n",
      "        \"total_supply\": \"115321189\",\n",
      "        \"max_supply\": \"null\",\n",
      "        \"percent_change_1h\": \"-1.5659043825145300\",\n",
      "        \"percent_change_24h\": \"-1.7570099653163600\",\n",
      "        \"percent_change_7d\": \"20.8920358778820000\",\n",
      "        \"last_updated\": \"1617483492\"\n",
      "    }\n",
      "]\n"
     ]
    }
   ],
   "source": [
    "# Add indents to JSON and output to screen\n",
    "print(json.dumps(crypto_data,indent=4))\n",
    "\n"
   ]
  },
  {
   "cell_type": "code",
   "execution_count": 204,
   "metadata": {},
   "outputs": [
    {
     "data": {
      "text/plain": [
       "'58142.0000000000000000'"
      ]
     },
     "execution_count": 204,
     "metadata": {},
     "output_type": "execute_result"
    }
   ],
   "source": [
    "crypto_data[0][\"price_usd\"]"
   ]
  },
  {
   "cell_type": "code",
   "execution_count": 205,
   "metadata": {},
   "outputs": [],
   "source": [
    "pd.options.display.float_format = '{:5.2f}'.format"
   ]
  },
  {
   "cell_type": "code",
   "execution_count": 206,
   "metadata": {},
   "outputs": [
    {
     "name": "stdout",
     "output_type": "stream",
     "text": [
      "BTC Price Today $: 58142.0000000000000000\n",
      "ETH Price Today $: 2055.6100000000000000\n"
     ]
    }
   ],
   "source": [
    "# Select BTC Current Price\n",
    "my_btc = crypto_data[0][\"price_usd\"]\n",
    "my_eth = crypto_data[1][\"price_usd\"]\n",
    "\n",
    "print(\"BTC Price Today $: \" + my_btc)\n",
    "print(\"ETH Price Today $: \" + my_eth)"
   ]
  },
  {
   "cell_type": "code",
   "execution_count": 223,
   "metadata": {},
   "outputs": [
    {
     "name": "stdout",
     "output_type": "stream",
     "text": [
      "58142.0\n"
     ]
    }
   ],
   "source": [
    "print(float(my_btc))\n"
   ]
  },
  {
   "cell_type": "code",
   "execution_count": 224,
   "metadata": {},
   "outputs": [
    {
     "name": "stdout",
     "output_type": "stream",
     "text": [
      "2055.61\n"
     ]
    }
   ],
   "source": [
    "print(float(my_eth))\n"
   ]
  },
  {
   "cell_type": "code",
   "execution_count": 225,
   "metadata": {},
   "outputs": [
    {
     "data": {
      "text/html": [
       "<div>\n",
       "<style scoped>\n",
       "    .dataframe tbody tr th:only-of-type {\n",
       "        vertical-align: middle;\n",
       "    }\n",
       "\n",
       "    .dataframe tbody tr th {\n",
       "        vertical-align: top;\n",
       "    }\n",
       "\n",
       "    .dataframe thead th {\n",
       "        text-align: right;\n",
       "    }\n",
       "</style>\n",
       "<table border=\"1\" class=\"dataframe\">\n",
       "  <thead>\n",
       "    <tr style=\"text-align: right;\">\n",
       "      <th></th>\n",
       "      <th>lots</th>\n",
       "    </tr>\n",
       "  </thead>\n",
       "  <tbody>\n",
       "    <tr>\n",
       "      <th>BTC</th>\n",
       "      <td>1.20</td>\n",
       "    </tr>\n",
       "    <tr>\n",
       "      <th>ETH</th>\n",
       "      <td>5.30</td>\n",
       "    </tr>\n",
       "  </tbody>\n",
       "</table>\n",
       "</div>"
      ],
      "text/plain": [
       "     lots\n",
       "BTC  1.20\n",
       "ETH  5.30"
      ]
     },
     "execution_count": 225,
     "metadata": {},
     "output_type": "execute_result"
    }
   ],
   "source": [
    "coin_lots"
   ]
  },
  {
   "cell_type": "code",
   "execution_count": 228,
   "metadata": {},
   "outputs": [
    {
     "name": "stdout",
     "output_type": "stream",
     "text": [
      "lots   80665.13\n",
      "dtype: float64\n"
     ]
    }
   ],
   "source": [
    "total_btc_value = float(my_btc) * coin_lots.loc[\"BTC\"]\n",
    "total_eth_value = float(my_eth) * coin_lots.loc[\"ETH\"]\n",
    "\n",
    "\n",
    "print((total_btc_value)+(total_eth_value))"
   ]
  },
  {
   "cell_type": "code",
   "execution_count": 222,
   "metadata": {},
   "outputs": [
    {
     "data": {
      "text/plain": [
       "lots   80665.13\n",
       "dtype: float64"
      ]
     },
     "execution_count": 222,
     "metadata": {},
     "output_type": "execute_result"
    }
   ],
   "source": [
    "# Portfolio Value of Crypocurrencies \n",
    "total_crypto_value = (total_btc_value + total_eth_value)\n",
    "\n",
    "total_crypto_value\n"
   ]
  },
  {
   "cell_type": "code",
   "execution_count": null,
   "metadata": {},
   "outputs": [],
   "source": []
  },
  {
   "cell_type": "markdown",
   "metadata": {},
   "source": [
    "# Saving and Health Analysis"
   ]
  },
  {
   "cell_type": "code",
   "execution_count": 217,
   "metadata": {},
   "outputs": [
    {
     "data": {
      "text/html": [
       "<div>\n",
       "<style scoped>\n",
       "    .dataframe tbody tr th:only-of-type {\n",
       "        vertical-align: middle;\n",
       "    }\n",
       "\n",
       "    .dataframe tbody tr th {\n",
       "        vertical-align: top;\n",
       "    }\n",
       "\n",
       "    .dataframe thead th {\n",
       "        text-align: right;\n",
       "    }\n",
       "</style>\n",
       "<table border=\"1\" class=\"dataframe\">\n",
       "  <thead>\n",
       "    <tr style=\"text-align: right;\">\n",
       "      <th></th>\n",
       "      <th>Amount</th>\n",
       "    </tr>\n",
       "  </thead>\n",
       "  <tbody>\n",
       "    <tr>\n",
       "      <th>Crypto</th>\n",
       "      <td>lots   80665.13\n",
       "dtype: float64</td>\n",
       "    </tr>\n",
       "    <tr>\n",
       "      <th>Shares</th>\n",
       "      <td>42578.00</td>\n",
       "    </tr>\n",
       "  </tbody>\n",
       "</table>\n",
       "</div>"
      ],
      "text/plain": [
       "                                Amount\n",
       "Crypto  lots   80665.13\n",
       "dtype: float64\n",
       "Shares                        42578.00"
      ]
     },
     "execution_count": 217,
     "metadata": {},
     "output_type": "execute_result"
    }
   ],
   "source": [
    "# Create Savings Database\n",
    "\n",
    "df_savings = {\n",
    "    \"Amount\": [total_crypto_value, total_share_values]\n",
    "}\n",
    "\n",
    "# Set the Coins\n",
    "Types = [\"Crypto\",\"Shares\"]\n",
    "\n",
    "# Create the shares DataFrame\n",
    "savings = pd.DataFrame(df_savings, index=Types)\n",
    "\n",
    "# Display shares data\n",
    "savings"
   ]
  },
  {
   "cell_type": "code",
   "execution_count": null,
   "metadata": {},
   "outputs": [],
   "source": [
    "# Set monthly household income\n",
    "monthy_income = 12000\n",
    "\n",
    "# Create savings DataFrame\n",
    "df_savings  = {\n",
    "  \"amount\": [\"crypto\",\"shares\"],\n",
    "}\n",
    "\n",
    "df_savings = pd.DataFrames(data=df_savings)\n",
    "\n",
    "# Display savings DataFrame\n",
    "display(df_savings)"
   ]
  },
  {
   "cell_type": "code",
   "execution_count": 192,
   "metadata": {},
   "outputs": [
    {
     "data": {
      "text/html": [
       "<div>\n",
       "<style scoped>\n",
       "    .dataframe tbody tr th:only-of-type {\n",
       "        vertical-align: middle;\n",
       "    }\n",
       "\n",
       "    .dataframe tbody tr th {\n",
       "        vertical-align: top;\n",
       "    }\n",
       "\n",
       "    .dataframe thead th {\n",
       "        text-align: right;\n",
       "    }\n",
       "</style>\n",
       "<table border=\"1\" class=\"dataframe\">\n",
       "  <thead>\n",
       "    <tr style=\"text-align: right;\">\n",
       "      <th></th>\n",
       "      <th>Type</th>\n",
       "      <th>Amount</th>\n",
       "    </tr>\n",
       "  </thead>\n",
       "  <tbody>\n",
       "    <tr>\n",
       "      <th>0</th>\n",
       "      <td>Crypto</td>\n",
       "      <td>4.00</td>\n",
       "    </tr>\n",
       "    <tr>\n",
       "      <th>1</th>\n",
       "      <td>Shares</td>\n",
       "      <td>4.00</td>\n",
       "    </tr>\n",
       "  </tbody>\n",
       "</table>\n",
       "</div>"
      ],
      "text/plain": [
       "     Type  Amount\n",
       "0  Crypto    4.00\n",
       "1  Shares    4.00"
      ]
     },
     "execution_count": 192,
     "metadata": {},
     "output_type": "execute_result"
    }
   ],
   "source": [
    "df_savings = pd.DataFrame({'Type': ['Crypto','Shares'], 'Amount': ('total_crypto_value', \"total_shares_value)})\n",
    "df_savings"
   ]
  },
  {
   "cell_type": "code",
   "execution_count": 50,
   "metadata": {},
   "outputs": [
    {
     "ename": "TypeError",
     "evalue": "list indices must be integers or slices, not str",
     "output_type": "error",
     "traceback": [
      "\u001b[1;31m---------------------------------------------------------------------------\u001b[0m",
      "\u001b[1;31mTypeError\u001b[0m                                 Traceback (most recent call last)",
      "\u001b[1;32m<ipython-input-50-1ebdc85872c5>\u001b[0m in \u001b[0;36m<module>\u001b[1;34m\u001b[0m\n\u001b[1;32m----> 1\u001b[1;33m \u001b[0mmy_btc_lots\u001b[0m \u001b[1;33m=\u001b[0m \u001b[0mfloat\u001b[0m\u001b[1;33m(\u001b[0m\u001b[0mLots\u001b[0m\u001b[1;33m[\u001b[0m\u001b[1;34m\"Coins\"\u001b[0m\u001b[1;33m]\u001b[0m\u001b[1;33m[\u001b[0m\u001b[1;34m\"BTC\"\u001b[0m\u001b[1;33m]\u001b[0m\u001b[1;33m)\u001b[0m\u001b[1;33m\u001b[0m\u001b[1;33m\u001b[0m\u001b[0m\n\u001b[0m\u001b[0;32m      2\u001b[0m \u001b[0mmy_eth_lots\u001b[0m \u001b[1;33m=\u001b[0m \u001b[0mfloat\u001b[0m\u001b[1;33m(\u001b[0m\u001b[0mLots\u001b[0m\u001b[1;33m[\u001b[0m\u001b[1;34m\"Coins\"\u001b[0m\u001b[1;33m]\u001b[0m\u001b[1;33m[\u001b[0m\u001b[1;34m\"ETH\"\u001b[0m\u001b[1;33m]\u001b[0m\u001b[1;33m)\u001b[0m\u001b[1;33m\u001b[0m\u001b[1;33m\u001b[0m\u001b[0m\n",
      "\u001b[1;31mTypeError\u001b[0m: list indices must be integers or slices, not str"
     ]
    }
   ],
   "source": [
    "my_btc = float(Lots[\"Coins\"][\"BTC\"])\n",
    "my_eth_lots = float(Lots[\"Coins\"][\"ETH\"])"
   ]
  },
  {
   "cell_type": "code",
   "execution_count": null,
   "metadata": {},
   "outputs": [],
   "source": [
    "# Select BTC Current Price\n",
    "my_btc = data[0]['symbol']\n",
    "price_usd = data[0]['price_usd']\n",
    "\n",
    "print(\"Symbol: \" + symbol)\n",
    "print(\"BTC Price: \" + str(price_usd))"
   ]
  },
  {
   "cell_type": "code",
   "execution_count": null,
   "metadata": {},
   "outputs": [],
   "source": [
    "# Select ETH Currentl Price\n",
    "my_eth = data[1]['symbol']\n",
    "price_usd = data[1]['price_usd']\n",
    "\n",
    "print(\"Symbol: \" + symbol)\n",
    "print(\"ETH Price: \" + str(price_usd))"
   ]
  },
  {
   "cell_type": "code",
   "execution_count": null,
   "metadata": {},
   "outputs": [],
   "source": [
    "# Set current amount of Crypto Asset\n",
    "crypto_data = {\n",
    "    \"Lots\": [1.2, 5.3]\n",
    "}\n"
   ]
  },
  {
   "cell_type": "code",
   "execution_count": null,
   "metadata": {},
   "outputs": [],
   "source": [
    "# Set the Crypto Asset\n",
    "crypto_coins = [\"BTC\", \"ETH\"]\n"
   ]
  },
  {
   "cell_type": "code",
   "execution_count": null,
   "metadata": {},
   "outputs": [],
   "source": [
    "# Create the Lots DataFrame\n",
    "df_lots = pd.DataFrame(crypto_data, index=crypto_coins)\n",
    "\n",
    "# Display lots data\n",
    "df_lots"
   ]
  },
  {
   "cell_type": "code",
   "execution_count": null,
   "metadata": {},
   "outputs": [],
   "source": [
    "today_price = pd.DataFrame(index=crypto_coins, my_btc, my_eth)\n",
    "today_price"
   ]
  },
  {
   "cell_type": "code",
   "execution_count": null,
   "metadata": {},
   "outputs": [],
   "source": [
    "## Calculate Current Value of Cryptocurrecies\n",
    "\n",
    "# Fetch the current crypto prices from the DataFrame\n",
    "btc_value = my_btc * (df_lots['BTC'])\n",
    "eth_value = my_eth * (df_lots['ETH'])\n"
   ]
  },
  {
   "cell_type": "code",
   "execution_count": null,
   "metadata": {},
   "outputs": [],
   "source": [
    "# Compute the current value in dollars of the stock portfolio\n",
    "my_spy = my_spy_pershare * df_shares.loc[\"SPY\"][\"shares\"]\n",
    "my_agg = my_agg_pershare * df_shares.loc[\"AGG\"][\"shares\"]"
   ]
  },
  {
   "cell_type": "code",
   "execution_count": null,
   "metadata": {},
   "outputs": [],
   "source": [
    "# Print the current value of the stocks portfolio\n",
    "print(f\"The current value of the {df_shares.loc['SPY']['shares']} SPY shares is ${my_spy:0.2f}\")\n",
    "print(f\"The current value of the {df_shares.loc['AGG']['shares']} AGG"
   ]
  },
  {
   "cell_type": "code",
   "execution_count": null,
   "metadata": {},
   "outputs": [],
   "source": [
    "# Declare request url to create deck id\n",
    "create_deck_url = \"https://deckofcardsapi.com/api/deck/new/shuffle/?deck_count=6\"\n",
    "\n",
    "# Execute create deck url\n",
    "response_data = requests.get(create_deck_url).json()\n",
    "response_data"
   ]
  },
  {
   "cell_type": "code",
   "execution_count": null,
   "metadata": {},
   "outputs": [],
   "source": []
  }
 ],
 "metadata": {
  "kernelspec": {
   "display_name": "Python 3",
   "language": "python",
   "name": "python3"
  },
  "language_info": {
   "codemirror_mode": {
    "name": "ipython",
    "version": 3
   },
   "file_extension": ".py",
   "mimetype": "text/x-python",
   "name": "python",
   "nbconvert_exporter": "python",
   "pygments_lexer": "ipython3",
   "version": "3.7.9"
  }
 },
 "nbformat": 4,
 "nbformat_minor": 4
}
